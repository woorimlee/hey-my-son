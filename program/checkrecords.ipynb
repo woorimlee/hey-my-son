{
 "cells": [
  {
   "cell_type": "code",
   "execution_count": 14,
   "metadata": {
    "scrolled": false
   },
   "outputs": [
    {
     "name": "stdout",
     "output_type": "stream",
     "text": [
      "전적 검색을 할 게임을 입력하세요\n",
      "검색어 : 롤, 오버워치, 배그, 서든어택, 메이플\n",
      "롤\n",
      "롤을(를) 선택하셨습니다.\n",
      "\n",
      "자녀분의 게임 아이디를 입력해주세요 :\n",
      "달려라포비돌격대\n"
     ]
    },
    {
     "ename": "UnexpectedAlertPresentException",
     "evalue": "Alert Text: 71초 전에 갱신을 했습니다. 49초 후에 다시 갱신하실 수 있습니다.\nMessage: unexpected alert open: {Alert text : 71초 전에 갱신을 했습니다. 49초 후에 다시 갱신하실 수 있습니다.}\n  (Session info: chrome=85.0.4183.121)\n",
     "output_type": "error",
     "traceback": [
      "\u001b[1;31m---------------------------------------------------------------------------\u001b[0m",
      "\u001b[1;31mUnexpectedAlertPresentException\u001b[0m           Traceback (most recent call last)",
      "\u001b[1;32m<ipython-input-14-7db234b62f1a>\u001b[0m in \u001b[0;36m<module>\u001b[1;34m\u001b[0m\n\u001b[0;32m     44\u001b[0m             \u001b[0mtime\u001b[0m\u001b[1;33m.\u001b[0m\u001b[0msleep\u001b[0m\u001b[1;33m(\u001b[0m\u001b[1;36m3\u001b[0m\u001b[1;33m)\u001b[0m\u001b[1;33m\u001b[0m\u001b[1;33m\u001b[0m\u001b[0m\n\u001b[0;32m     45\u001b[0m             \u001b[0mdriver\u001b[0m\u001b[1;33m.\u001b[0m\u001b[0mimplicitly_wait\u001b[0m\u001b[1;33m(\u001b[0m\u001b[1;36m3\u001b[0m\u001b[1;33m)\u001b[0m\u001b[1;33m\u001b[0m\u001b[1;33m\u001b[0m\u001b[0m\n\u001b[1;32m---> 46\u001b[1;33m         \u001b[0mhtml\u001b[0m \u001b[1;33m=\u001b[0m \u001b[0mdriver\u001b[0m\u001b[1;33m.\u001b[0m\u001b[0mpage_source\u001b[0m\u001b[1;33m\u001b[0m\u001b[1;33m\u001b[0m\u001b[0m\n\u001b[0m\u001b[0;32m     47\u001b[0m         \u001b[0msoup\u001b[0m \u001b[1;33m=\u001b[0m \u001b[0mBeautifulSoup\u001b[0m\u001b[1;33m(\u001b[0m\u001b[0mhtml\u001b[0m\u001b[1;33m,\u001b[0m \u001b[1;34m\"html.parser\"\u001b[0m\u001b[1;33m)\u001b[0m\u001b[1;33m\u001b[0m\u001b[1;33m\u001b[0m\u001b[0m\n\u001b[0;32m     48\u001b[0m \u001b[1;33m\u001b[0m\u001b[0m\n",
      "\u001b[1;32mC:\\ProgramData\\Anaconda3\\lib\\site-packages\\selenium\\webdriver\\remote\\webdriver.py\u001b[0m in \u001b[0;36mpage_source\u001b[1;34m(self)\u001b[0m\n\u001b[0;32m    677\u001b[0m             \u001b[0mdriver\u001b[0m\u001b[1;33m.\u001b[0m\u001b[0mpage_source\u001b[0m\u001b[1;33m\u001b[0m\u001b[1;33m\u001b[0m\u001b[0m\n\u001b[0;32m    678\u001b[0m         \"\"\"\n\u001b[1;32m--> 679\u001b[1;33m         \u001b[1;32mreturn\u001b[0m \u001b[0mself\u001b[0m\u001b[1;33m.\u001b[0m\u001b[0mexecute\u001b[0m\u001b[1;33m(\u001b[0m\u001b[0mCommand\u001b[0m\u001b[1;33m.\u001b[0m\u001b[0mGET_PAGE_SOURCE\u001b[0m\u001b[1;33m)\u001b[0m\u001b[1;33m[\u001b[0m\u001b[1;34m'value'\u001b[0m\u001b[1;33m]\u001b[0m\u001b[1;33m\u001b[0m\u001b[1;33m\u001b[0m\u001b[0m\n\u001b[0m\u001b[0;32m    680\u001b[0m \u001b[1;33m\u001b[0m\u001b[0m\n\u001b[0;32m    681\u001b[0m     \u001b[1;32mdef\u001b[0m \u001b[0mclose\u001b[0m\u001b[1;33m(\u001b[0m\u001b[0mself\u001b[0m\u001b[1;33m)\u001b[0m\u001b[1;33m:\u001b[0m\u001b[1;33m\u001b[0m\u001b[1;33m\u001b[0m\u001b[0m\n",
      "\u001b[1;32mC:\\ProgramData\\Anaconda3\\lib\\site-packages\\selenium\\webdriver\\remote\\webdriver.py\u001b[0m in \u001b[0;36mexecute\u001b[1;34m(self, driver_command, params)\u001b[0m\n\u001b[0;32m    319\u001b[0m         \u001b[0mresponse\u001b[0m \u001b[1;33m=\u001b[0m \u001b[0mself\u001b[0m\u001b[1;33m.\u001b[0m\u001b[0mcommand_executor\u001b[0m\u001b[1;33m.\u001b[0m\u001b[0mexecute\u001b[0m\u001b[1;33m(\u001b[0m\u001b[0mdriver_command\u001b[0m\u001b[1;33m,\u001b[0m \u001b[0mparams\u001b[0m\u001b[1;33m)\u001b[0m\u001b[1;33m\u001b[0m\u001b[1;33m\u001b[0m\u001b[0m\n\u001b[0;32m    320\u001b[0m         \u001b[1;32mif\u001b[0m \u001b[0mresponse\u001b[0m\u001b[1;33m:\u001b[0m\u001b[1;33m\u001b[0m\u001b[1;33m\u001b[0m\u001b[0m\n\u001b[1;32m--> 321\u001b[1;33m             \u001b[0mself\u001b[0m\u001b[1;33m.\u001b[0m\u001b[0merror_handler\u001b[0m\u001b[1;33m.\u001b[0m\u001b[0mcheck_response\u001b[0m\u001b[1;33m(\u001b[0m\u001b[0mresponse\u001b[0m\u001b[1;33m)\u001b[0m\u001b[1;33m\u001b[0m\u001b[1;33m\u001b[0m\u001b[0m\n\u001b[0m\u001b[0;32m    322\u001b[0m             response['value'] = self._unwrap_value(\n\u001b[0;32m    323\u001b[0m                 response.get('value', None))\n",
      "\u001b[1;32mC:\\ProgramData\\Anaconda3\\lib\\site-packages\\selenium\\webdriver\\remote\\errorhandler.py\u001b[0m in \u001b[0;36mcheck_response\u001b[1;34m(self, response)\u001b[0m\n\u001b[0;32m    239\u001b[0m             \u001b[1;32melif\u001b[0m \u001b[1;34m'alert'\u001b[0m \u001b[1;32min\u001b[0m \u001b[0mvalue\u001b[0m\u001b[1;33m:\u001b[0m\u001b[1;33m\u001b[0m\u001b[1;33m\u001b[0m\u001b[0m\n\u001b[0;32m    240\u001b[0m                 \u001b[0malert_text\u001b[0m \u001b[1;33m=\u001b[0m \u001b[0mvalue\u001b[0m\u001b[1;33m[\u001b[0m\u001b[1;34m'alert'\u001b[0m\u001b[1;33m]\u001b[0m\u001b[1;33m.\u001b[0m\u001b[0mget\u001b[0m\u001b[1;33m(\u001b[0m\u001b[1;34m'text'\u001b[0m\u001b[1;33m)\u001b[0m\u001b[1;33m\u001b[0m\u001b[1;33m\u001b[0m\u001b[0m\n\u001b[1;32m--> 241\u001b[1;33m             \u001b[1;32mraise\u001b[0m \u001b[0mexception_class\u001b[0m\u001b[1;33m(\u001b[0m\u001b[0mmessage\u001b[0m\u001b[1;33m,\u001b[0m \u001b[0mscreen\u001b[0m\u001b[1;33m,\u001b[0m \u001b[0mstacktrace\u001b[0m\u001b[1;33m,\u001b[0m \u001b[0malert_text\u001b[0m\u001b[1;33m)\u001b[0m\u001b[1;33m\u001b[0m\u001b[1;33m\u001b[0m\u001b[0m\n\u001b[0m\u001b[0;32m    242\u001b[0m         \u001b[1;32mraise\u001b[0m \u001b[0mexception_class\u001b[0m\u001b[1;33m(\u001b[0m\u001b[0mmessage\u001b[0m\u001b[1;33m,\u001b[0m \u001b[0mscreen\u001b[0m\u001b[1;33m,\u001b[0m \u001b[0mstacktrace\u001b[0m\u001b[1;33m)\u001b[0m\u001b[1;33m\u001b[0m\u001b[1;33m\u001b[0m\u001b[0m\n\u001b[0;32m    243\u001b[0m \u001b[1;33m\u001b[0m\u001b[0m\n",
      "\u001b[1;31mUnexpectedAlertPresentException\u001b[0m: Alert Text: 71초 전에 갱신을 했습니다. 49초 후에 다시 갱신하실 수 있습니다.\nMessage: unexpected alert open: {Alert text : 71초 전에 갱신을 했습니다. 49초 후에 다시 갱신하실 수 있습니다.}\n  (Session info: chrome=85.0.4183.121)\n"
     ]
    }
   ],
   "source": [
    "from bs4 import BeautifulSoup\n",
    "from selenium import webdriver\n",
    "from selenium.webdriver.common.keys import Keys\n",
    "import time\n",
    "import json\n",
    "\n",
    "#게임 전적 검색 사이트\n",
    "lol = \"https://www.op.gg/\"\n",
    "overwatch = \"https://overwatch.op.gg/\"\n",
    "battleground = \"https://pubg.op.gg/\"\n",
    "suddenattack = \"https://3rd.supply/\"\n",
    "maplestory = \"https://maple.gg/\"\n",
    "\n",
    "#ele == elements\n",
    "lol_ele = {\n",
    "    \"input_box\" : \"/html/body/div[2]/div[2]/form/input\",\n",
    "    \"last_update\" : \"/html/body/div[2]/div[2]/div/div/div[1]/div[4]/span\", \n",
    "    \"ref_button\" : \"//*[@id='SummonerRefreshButton']\"\n",
    "}\n",
    "\n",
    "game = input(\"전적 검색을 할 게임을 입력하세요\\n검색어 : 롤, 오버워치, 배그, 서든어택, 메이플\\n\")\n",
    "\n",
    "print(game, \"을(를) 선택하셨습니다.\\n\", sep = '')\n",
    "\n",
    "with webdriver.Chrome() as driver : \n",
    "    if(game == \"롤\") :\n",
    "        driver.get(lol)\n",
    "        driver.implicitly_wait(1)\n",
    "        user = input(\"자녀분의 게임 아이디를 입력해주세요 :\\n\")\n",
    "        \n",
    "        #유저 아이디 입력\n",
    "        #print(driver.find_element_by_xpath(lol_ele[\"input_box\"]).is_enabled())\n",
    "        driver.find_element_by_xpath(lol_ele[\"input_box\"]).click()\n",
    "        driver.find_element_by_xpath(lol_ele[\"input_box\"]).send_keys(user)\n",
    "        driver.find_element_by_xpath(lol_ele[\"input_box\"]).send_keys(Keys.RETURN)\n",
    "        driver.implicitly_wait(3)\n",
    "        \n",
    "        #전적 갱신\n",
    "        #4. 에러 처리해야함\n",
    "        lastupdate = driver.find_element_by_xpath(lol_ele[\"last_update\"])\n",
    "        #print(lastupdate.text)\n",
    "        #몇초 전에 갱신한 기록은 경고알림만 뜸\n",
    "        if(lastupdate != \"몇초 전\") : #만약 몇초 전에 갱신한 기록이 아니라면\n",
    "            driver.find_element_by_xpath(lol_ele[\"ref_button\"]).click()\n",
    "            time.sleep(3)\n",
    "            driver.implicitly_wait(3)\n",
    "        html = driver.page_source\n",
    "        soup = BeautifulSoup(html, \"html.parser\")\n",
    "        \n",
    "        #최근 전적 (xxxx년 x월 x일 [오전,오후] x시 x분) 가져옴.\n",
    "        test = soup.select(\"div.GameItemList > div:nth-child(1) > div > div.Content > div.GameStats > div.TimeStamp > span\")\n",
    "        print(test[0]['title'])\n",
    "        \n",
    "        record = dict(user = test[0]['title'])\n",
    "        with open(\"GAMERECORD_LOL.json\", \"r\", encoding='UTF8') as fp :\n",
    "            json_data = json.load(fp)\n",
    "            if not json_data[user] :\n",
    "                json_data[user].append(test[0]['title'])\n",
    "            else : \n",
    "                json_data[user] = test[0]['title']\n",
    "                \n",
    "        with open(\"GAMERECORD_LOL.json\", \"w\", encoding='UTF8') as fp :\n",
    "            json.dump(json_data, fp)\n",
    "        \n",
    "        #2-1. 이전 기록 저장해둔 파일 비교하기\n",
    "        #2-2. 만약 처음 검사한 ID면 파일 만들기\n",
    "        #2-2-1. 처음 만든 ID는 처음 만들었다고 하고 가장 마지막에 플레이한 경기 날짜 보여주기\n",
    "        #3. 변화가 있는 경우와 없는 경우 해당 내용 출력하기"
   ]
  },
  {
   "cell_type": "code",
   "execution_count": null,
   "metadata": {},
   "outputs": [],
   "source": []
  }
 ],
 "metadata": {
  "kernelspec": {
   "display_name": "Python 3",
   "language": "python",
   "name": "python3"
  }
 },
 "nbformat": 4,
 "nbformat_minor": 2
}
