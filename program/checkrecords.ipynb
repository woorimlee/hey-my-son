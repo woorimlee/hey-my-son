{
 "cells": [
  {
   "cell_type": "code",
   "execution_count": null,
   "metadata": {},
   "outputs": [
    {
     "name": "stdout",
     "output_type": "stream",
     "text": [
      "전적 검색을 할 게임을 입력하세요\n",
      "검색어 : 롤, 오버워치, 배그, 서든어택, 메이플\n",
      "롤\n",
      "롤을(를) 선택하셨습니다.\n",
      "\n"
     ]
    }
   ],
   "source": [
    "from bs4 import BeautifulSoup\n",
    "from selenium import webdriver\n",
    "from selenium.webdriver.common.keys import Keys\n",
    "import time\n",
    "\n",
    "#게임 전적 검색 사이트\n",
    "lol = \"https://www.op.gg/\"\n",
    "overwatch = \"https://overwatch.op.gg/\"\n",
    "battleground = \"https://pubg.op.gg/\"\n",
    "suddenattack = \"https://3rd.supply/\"\n",
    "maplestory = \"https://maple.gg/\"\n",
    "\n",
    "#ele == elements\n",
    "lol_ele = {\n",
    "    \"input_box\" : \"/html/body/div[2]/div[3]/form/input\",\n",
    "    \"last_update\" : \"/html/body/div[2]/div[3]/div/div/div[1]/div[4]/span\", \n",
    "    \"ref_button\" : \"//*[@id='SummonerRefreshButton']\"\n",
    "}\n",
    "\n",
    "game = input(\"전적 검색을 할 게임을 입력하세요\\n검색어 : 롤, 오버워치, 배그, 서든어택, 메이플\\n\")\n",
    "\n",
    "print(game, \"을(를) 선택하셨습니다.\\n\", sep = '')\n",
    "\n",
    "with webdriver.Chrome() as driver : \n",
    "    if(game == \"롤\") :\n",
    "        driver.get(lol)\n",
    "        driver.implicitly_wait(3)\n",
    "        user = input(\"자녀분의 게임 아이디를 입력해주세요 :\\n\")\n",
    "        \n",
    "        #유저 아이디 입력\n",
    "        #print(driver.find_element_by_xpath(lol_ele[\"input_box\"]).is_enabled())\n",
    "        driver.find_element_by_xpath(lol_ele[\"input_box\"]).click()\n",
    "        driver.find_element_by_xpath(lol_ele[\"input_box\"]).send_keys(user)\n",
    "        driver.find_element_by_xpath(lol_ele[\"input_box\"]).send_keys(Keys.RETURN)\n",
    "        driver.implicitly_wait(3)\n",
    "        \n",
    "        #전적 갱신\n",
    "        lastupdate = driver.find_element_by_xpath(lol_ele[\"last_update\"])\n",
    "        #print(lastupdate.text)\n",
    "        #몇초 전에 갱신한 기록은 경고알림만 뜸\n",
    "        if(lastupdate != \"몇초 전\") : #만약 몇초 전에 갱신한 기록이 아니라면\n",
    "            driver.find_element_by_xpath(lol_ele[\"ref_button\"]).click()\n",
    "            time.sleep(3)\n",
    "            driver.implicitly_wait(3)\n",
    "        "
   ]
  },
  {
   "cell_type": "code",
   "execution_count": null,
   "metadata": {},
   "outputs": [],
   "source": []
  }
 ],
 "metadata": {
  "kernelspec": {
   "display_name": "Python 3",
   "language": "python",
   "name": "python3"
  },
  "language_info": {
   "codemirror_mode": {
    "name": "ipython",
    "version": 3
   },
   "file_extension": ".py",
   "mimetype": "text/x-python",
   "name": "python",
   "nbconvert_exporter": "python",
   "pygments_lexer": "ipython3",
   "version": "3.7.3"
  }
 },
 "nbformat": 4,
 "nbformat_minor": 2
}
